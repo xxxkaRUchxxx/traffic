{
  "nbformat": 4,
  "nbformat_minor": 0,
  "metadata": {
    "colab": {
      "provenance": [],
      "collapsed_sections": [
        "wBpZIzTu958Y",
        "OpnAnTQAolQg"
      ],
      "include_colab_link": true
    },
    "kernelspec": {
      "name": "python3",
      "display_name": "Python 3"
    },
    "language_info": {
      "name": "python"
    }
  },
  "cells": [
    {
      "cell_type": "markdown",
      "metadata": {
        "id": "view-in-github",
        "colab_type": "text"
      },
      "source": [
        "<a href=\"https://colab.research.google.com/github/xxxkaRUchxxx/traffic/blob/main/WebScraping_with_hidden_API.ipynb\" target=\"_parent\"><img src=\"https://colab.research.google.com/assets/colab-badge.svg\" alt=\"Open In Colab\"/></a>"
      ]
    },
    {
      "cell_type": "markdown",
      "metadata": {
        "id": "wBpZIzTu958Y"
      },
      "source": [
        "# TIKTOK DATA SCRAPING USING HIDDEN API"
      ]
    },
    {
      "cell_type": "markdown",
      "metadata": {
        "id": "un7kQZehoZB6"
      },
      "source": [
        "Medium article : **[Scraping Hidden Api with Python Requests eg Tiktok](https://medium.com/@surenjanath.singh/scraping-hidden-api-with-python-requests-eg-tiktok-80f2daea8e5)**\n"
      ]
    },
    {
      "cell_type": "code",
      "metadata": {
        "id": "qIF7i0DXadIQ"
      },
      "source": [
        "import requests\n",
        "import pandas\n",
        "from urllib.parse import urlencode as encoder"
      ],
      "execution_count": null,
      "outputs": []
    },
    {
      "cell_type": "code",
      "metadata": {
        "id": "HgEsJXu02VYz",
        "colab": {
          "base_uri": "https://localhost:8080/"
        },
        "outputId": "e2bc3c2c-003e-4ec0-a14d-ed16de3e9635"
      },
      "source": [
        "#########################################\n",
        "#   E N T E R  API LINK  H E R E\n",
        "#########################################\n",
        "# RUN ONLY ONCE\n",
        "#########################################\n",
        "\n",
        "Link = input(\"Please Enter Api Link :\")\n",
        "API_TOKENS = [x.split('&') for x in Link.split('?')[1:]][0]\n",
        "Params = {}\n",
        "for x in API_TOKENS:\n",
        "  Params[x.split('=')[0]] = x.split('=')[1]\n",
        ""
      ],
      "execution_count": null,
      "outputs": [
        {
          "name": "stdout",
          "output_type": "stream",
          "text": [
            "Please Enter Api Link :https://m.tiktok.com/api/music/item_list/?msToken=&X-Bogus=DFSzswVOQDGANtziSYakdQYklTXL&_signature=_02B4Z6wo00001U6EN2QAAIDAkPJvwESG6YFOhDPAADKedc\n"
          ]
        }
      ]
    },
    {
      "cell_type": "markdown",
      "metadata": {
        "id": "5eyeG65o9sRO"
      },
      "source": [
        "Each time you want to load more pages enter the xttparams here and then run all cells after this"
      ]
    },
    {
      "cell_type": "code",
      "metadata": {
        "colab": {
          "base_uri": "https://localhost:8080/"
        },
        "id": "6FbHhjBJ8-hD",
        "outputId": "a0b66851-7548-4033-99c5-c01f4543d905"
      },
      "source": [
        "#########################################\n",
        "#   E N T E R  X TT PARAMS  H E R E\n",
        "#########################################\n",
        "# to get this value go to tiktok under requests headers and you will see xttparam\n",
        "XTTPARAMS = input('Enter x-tt-params : ')"
      ],
      "execution_count": null,
      "outputs": [
        {
          "name": "stdout",
          "output_type": "stream",
          "text": [
            "Enter x-tt-params : 4mOJhGnMOdadxrLEy2bkmOAP8DpguK7Kc5QNaV/KvWMAIphiw6kPr4o3oGEiQ6/2cN5NmqgwNloNv8x68hv+708HyF1zEJJg3HMP296bybPF7Z7jUSN9fTbZlTI9+XP+zlHK8dADKIJ4J+I7ZBA+mHKC3Pl5u/h+5T8SyhZ88s4g/8f600J91jjIUTmYX2kSe/GlIchyIZtMRnNMDypmaEH12mKP9xndzv47z36K8jNAwbDXf1UnlxJpRxbPh/Bkbj0DoxBteqKeRSdPSCuMLQqP6RTuGV6/ifUz6qfT/tnJiTk2hyJhNoXU52b3U86AKSH/TrOPClSv/KeDosBSBCGjK2UxF7vKUtu1IMGCbgZEDx5fQO/qvNEfxNxNUFwzodID0j9ejN//WI8kRwKo4AS0SB2A86zDDMIh5Qb5D+2KJn7rjzADzRBMYAxg8yTIYCnTa7GD7fe7/r5rhGLiZd9pitP0eqhaF7xZ53GKl4M1alfFZ7JJa4VZKVU8r8s9jgt39VESSuWdxPhunxaQTVzTn//VJgrfgWMme/2q3WdT2G+EDB4CWhJ6F4JPF2N0GC4Gv0+n5E8cJr6sCmZGR7Hv36riEpPgm0NMeSUOPxNYQcxuUJeqQX94PDfMKZc5ycJrTZOgY3EBlj+vLxtLhS8y6l+6yqKM2tz+DAVOSqiKnVguEOgHWPRRg7gx3p0QU0lCts0e53osqfuDsLLNr6GfHf6E/OdhikwohpN0JAXVdcT7lIj2X9CJRuTANaqqjf6020ubd/7a9y6EbZQV1wjQMTn8+jhJG8SR3UypN77RZGEBT1YcwV8Gc64jXlu9X3Thw/T5ewQHPNLbFFkLARcGAVvlhTOZYSvY+9ZDhZGXsZGD87xdkzEYa5i1doIK9Zh0ldiTu0QnpHO5SuYuu/UIJjRtFdQS9j+JQNPoc0oTBOxKA9yejIfRmYzQD+u8rQOlPn2tl7+LIvys+hQ9/pKBxXwM0k7/UfoIWXrSi9Ns0/bvav3qnY+WDTA0IBqXICQTJRubmmA4TYs9JMqwq46BxL1E0mulDrdif8ZWGEnygnOSy9+6cCa4c59SwM4HYKP8lvdDkoz2H6U1rA/c9h5KRvcRHM6GmXl6ZMkJL9lariNmrlhxrsvw2G9N1QktCg5ZTDzZxO+TcSf/0ufQuOcIZD0YBKkFTn2I8SCUM7fUDKFNWs1Dz81jQeZMPEwj\n"
          ]
        }
      ]
    },
    {
      "cell_type": "code",
      "metadata": {
        "colab": {
          "base_uri": "https://localhost:8080/"
        },
        "id": "vMcMz3P-rrZs",
        "outputId": "870d84ed-3693-4abf-f21b-1741b7f6792a"
      },
      "source": [
        "X = f'''\n",
        "authority: m.tiktok.com\n",
        "method: GET\n",
        "path: /api/music/item_list/?{encoder(Params, safe = '=')}\n",
        "scheme: https\n",
        "accept: application/json, text/plain, */*\n",
        "accept-encoding: gzip, deflate, br\n",
        "accept-language: en-IE,en;q=0.9,ru-RU;q=0.8,ru;q=0.7,en-US;q=0.6\n",
        "cache-control: no-cache\n",
        "dnt: 1\n",
        "origin: https://www.tiktok.com\n",
        "pragma: no-cache\n",
        "referer: https://www.tiktok.com/\n",
        "sec-ch-ua: \"Google Chrome\";v=\"93\", \" Not;A Brand\";v=\"99\", \"Chromium\";v=\"93\"\n",
        "sec-ch-ua-mobile: ?0\n",
        "sec-ch-ua-platform: \"Windows\"\n",
        "sec-fetch-dest: empty\n",
        "sec-fetch-mode: cors\n",
        "sec-fetch-site: same-site\n",
        "user-agent: Mozilla/5.0 (Windows NT 10.0; Win64; x64) AppleWebKit/537.36 (KHTML, like Gecko) Chrome/93.0.4577.63 Safari/537.36\n",
        "x-tt-params: {XTTPARAMS}\n",
        "'''\n",
        "\n",
        "headers = {}\n",
        "for i in X.split('\\n')[1:-1]:\n",
        "  headers[i.split(':')[0]] = i.split(':')[1][1:]\n",
        "print(headers)\n"
      ],
      "execution_count": null,
      "outputs": [
        {
          "output_type": "stream",
          "name": "stdout",
          "text": [
            "{'authority': 'm.tiktok.com', 'method': 'GET', 'path': '/api/music/item_list/?msToken=&X-Bogus=DFSzswVOQDGANtziSYakdQYklTXL&_signature=_02B4Z6wo00001U6EN2QAAIDAkPJvwESG6YFOhDPAADKedc', 'scheme': 'https', 'accept': 'application/json, text/plain, */*', 'accept-encoding': 'gzip, deflate, br', 'accept-language': 'en-IE,en;q=0.9,ru-RU;q=0.8,ru;q=0.7,en-US;q=0.6', 'cache-control': 'no-cache', 'dnt': '1', 'origin': 'https', 'pragma': 'no-cache', 'referer': 'https', 'sec-ch-ua': '\"Google Chrome\";v=\"93\", \" Not;A Brand\";v=\"99\", \"Chromium\";v=\"93\"', 'sec-ch-ua-mobile': '?0', 'sec-ch-ua-platform': '\"Windows\"', 'sec-fetch-dest': 'empty', 'sec-fetch-mode': 'cors', 'sec-fetch-site': 'same-site', 'user-agent': 'Mozilla/5.0 (Windows NT 10.0; Win64; x64) AppleWebKit/537.36 (KHTML, like Gecko) Chrome/93.0.4577.63 Safari/537.36', 'x-tt-params': '4mOJhGnMOdadxrLEy2bkmOAP8DpguK7Kc5QNaV/KvWMAIphiw6kPr4o3oGEiQ6/2cN5NmqgwNloNv8x68hv+708HyF1zEJJg3HMP296bybPF7Z7jUSN9fTbZlTI9+XP+zlHK8dADKIJ4J+I7ZBA+mHKC3Pl5u/h+5T8SyhZ88s4g/8f600J91jjIUTmYX2kSe/GlIchyIZtMRnNMDypmaEH12mKP9xndzv47z36K8jNAwbDXf1UnlxJpRxbPh/Bkbj0DoxBteqKeRSdPSCuMLQqP6RTuGV6/ifUz6qfT/tnJiTk2hyJhNoXU52b3U86AKSH/TrOPClSv/KeDosBSBCGjK2UxF7vKUtu1IMGCbgZEDx5fQO/qvNEfxNxNUFwzodID0j9ejN//WI8kRwKo4AS0SB2A86zDDMIh5Qb5D+2KJn7rjzADzRBMYAxg8yTIYCnTa7GD7fe7/r5rhGLiZd9pitP0eqhaF7xZ53GKl4M1alfFZ7JJa4VZKVU8r8s9jgt39VESSuWdxPhunxaQTVzTn//VJgrfgWMme/2q3WdT2G+EDB4CWhJ6F4JPF2N0GC4Gv0+n5E8cJr6sCmZGR7Hv36riEpPgm0NMeSUOPxNYQcxuUJeqQX94PDfMKZc5ycJrTZOgY3EBlj+vLxtLhS8y6l+6yqKM2tz+DAVOSqiKnVguEOgHWPRRg7gx3p0QU0lCts0e53osqfuDsLLNr6GfHf6E/OdhikwohpN0JAXVdcT7lIj2X9CJRuTANaqqjf6020ubd/7a9y6EbZQV1wjQMTn8+jhJG8SR3UypN77RZGEBT1YcwV8Gc64jXlu9X3Thw/T5ewQHPNLbFFkLARcGAVvlhTOZYSvY+9ZDhZGXsZGD87xdkzEYa5i1doIK9Zh0ldiTu0QnpHO5SuYuu/UIJjRtFdQS9j+JQNPoc0oTBOxKA9yejIfRmYzQD+u8rQOlPn2tl7+LIvys+hQ9/pKBxXwM0k7/UfoIWXrSi9Ns0/bvav3qnY+WDTA0IBqXICQTJRubmmA4TYs9JMqwq46BxL1E0mulDrdif8ZWGEnygnOSy9+6cCa4c59SwM4HYKP8lvdDkoz2H6U1rA/c9h5KRvcRHM6GmXl6ZMkJL9lariNmrlhxrsvw2G9N1QktCg5ZTDzZxO+TcSf/0ufQuOcIZD0YBKkFTn2I8SCUM7fUDKFNWs1Dz81jQeZMPEwj'}\n"
          ]
        }
      ]
    },
    {
      "cell_type": "code",
      "metadata": {
        "id": "j7y5jdYPtcVT"
      },
      "source": [
        "url = 'https://m.tiktok.com/api/music/item_list/?'\n",
        "\n",
        "data = requests.get(url,\n",
        "                    headers= headers,\n",
        "                    params = encoder(Params,\n",
        "                                     safe='='))\n",
        "\n",
        "if data.status_code == 200 :\n",
        "  df = pandas.DataFrame(data.json()['itemList'])\n",
        "else :\n",
        "  print(data.status_code)"
      ],
      "execution_count": null,
      "outputs": []
    },
    {
      "cell_type": "code",
      "metadata": {
        "id": "mipyRcVr-I_o",
        "colab": {
          "base_uri": "https://localhost:8080/",
          "height": 496
        },
        "outputId": "4347c568-8a75-4389-e86d-4bc036bf22c0"
      },
      "source": [
        "df.head()"
      ],
      "execution_count": null,
      "outputs": [
        {
          "output_type": "execute_result",
          "data": {
            "text/html": [
              "<div>\n",
              "<style scoped>\n",
              "    .dataframe tbody tr th:only-of-type {\n",
              "        vertical-align: middle;\n",
              "    }\n",
              "\n",
              "    .dataframe tbody tr th {\n",
              "        vertical-align: top;\n",
              "    }\n",
              "\n",
              "    .dataframe thead th {\n",
              "        text-align: right;\n",
              "    }\n",
              "</style>\n",
              "<table border=\"1\" class=\"dataframe\">\n",
              "  <thead>\n",
              "    <tr style=\"text-align: right;\">\n",
              "      <th></th>\n",
              "      <th>id</th>\n",
              "      <th>desc</th>\n",
              "      <th>createTime</th>\n",
              "      <th>video</th>\n",
              "      <th>author</th>\n",
              "      <th>music</th>\n",
              "      <th>challenges</th>\n",
              "      <th>stats</th>\n",
              "      <th>duetInfo</th>\n",
              "      <th>originalItem</th>\n",
              "      <th>officalItem</th>\n",
              "      <th>textExtra</th>\n",
              "      <th>secret</th>\n",
              "      <th>forFriend</th>\n",
              "      <th>digged</th>\n",
              "      <th>itemCommentStatus</th>\n",
              "      <th>showNotPass</th>\n",
              "      <th>vl1</th>\n",
              "      <th>itemMute</th>\n",
              "      <th>authorStats</th>\n",
              "      <th>privateItem</th>\n",
              "      <th>duetEnabled</th>\n",
              "      <th>stitchEnabled</th>\n",
              "      <th>shareEnabled</th>\n",
              "      <th>isAd</th>\n",
              "      <th>duetDisplay</th>\n",
              "      <th>stitchDisplay</th>\n",
              "      <th>stickersOnItem</th>\n",
              "      <th>warnInfo</th>\n",
              "      <th>effectStickers</th>\n",
              "    </tr>\n",
              "  </thead>\n",
              "  <tbody>\n",
              "    <tr>\n",
              "      <th>0</th>\n",
              "      <td>6807052858286935301</td>\n",
              "      <td>Learning to float for #infantaquatics #selfres...</td>\n",
              "      <td>1584890499</td>\n",
              "      <td>{'id': '6807052858286935301', 'height': 1024, ...</td>\n",
              "      <td>{'id': '6731368388154721285', 'uniqueId': 'the...</td>\n",
              "      <td>{'id': '6566091950947044097', 'title': 'Myself...</td>\n",
              "      <td>[{'id': '1660443129772037', 'title': 'infantaq...</td>\n",
              "      <td>{'diggCount': 3800000, 'shareCount': 66200, 'c...</td>\n",
              "      <td>{'duetFromId': '0'}</td>\n",
              "      <td>False</td>\n",
              "      <td>False</td>\n",
              "      <td>[{'awemeId': '', 'start': 22, 'end': 37, 'hash...</td>\n",
              "      <td>False</td>\n",
              "      <td>False</td>\n",
              "      <td>False</td>\n",
              "      <td>3</td>\n",
              "      <td>False</td>\n",
              "      <td>False</td>\n",
              "      <td>False</td>\n",
              "      <td>{'followingCount': 188, 'followerCount': 13000...</td>\n",
              "      <td>False</td>\n",
              "      <td>True</td>\n",
              "      <td>True</td>\n",
              "      <td>True</td>\n",
              "      <td>False</td>\n",
              "      <td>0</td>\n",
              "      <td>0</td>\n",
              "      <td>NaN</td>\n",
              "      <td>NaN</td>\n",
              "      <td>NaN</td>\n",
              "    </tr>\n",
              "    <tr>\n",
              "      <th>1</th>\n",
              "      <td>6983468874360458501</td>\n",
              "      <td>Stay tuned for the reveal. #diy #diyproject #p...</td>\n",
              "      <td>1625965557</td>\n",
              "      <td>{'id': '6983468874360458501', 'height': 1024, ...</td>\n",
              "      <td>{'id': '6872828362273752069', 'uniqueId': 'org...</td>\n",
              "      <td>{'id': '6566091950947044097', 'title': 'Myself...</td>\n",
              "      <td>[{'id': '18121', 'title': 'diy', 'desc': 'Do i...</td>\n",
              "      <td>{'diggCount': 3800000, 'shareCount': 49600, 'c...</td>\n",
              "      <td>{'duetFromId': '0'}</td>\n",
              "      <td>False</td>\n",
              "      <td>False</td>\n",
              "      <td>[{'awemeId': '', 'start': 27, 'end': 31, 'hash...</td>\n",
              "      <td>False</td>\n",
              "      <td>False</td>\n",
              "      <td>False</td>\n",
              "      <td>0</td>\n",
              "      <td>False</td>\n",
              "      <td>False</td>\n",
              "      <td>False</td>\n",
              "      <td>{'followingCount': 119, 'followerCount': 30210...</td>\n",
              "      <td>False</td>\n",
              "      <td>True</td>\n",
              "      <td>True</td>\n",
              "      <td>True</td>\n",
              "      <td>False</td>\n",
              "      <td>0</td>\n",
              "      <td>0</td>\n",
              "      <td>[{'stickerType': 4, 'stickerText': ['My husban...</td>\n",
              "      <td>NaN</td>\n",
              "      <td>NaN</td>\n",
              "    </tr>\n",
              "    <tr>\n",
              "      <th>2</th>\n",
              "      <td>6994262492671266053</td>\n",
              "      <td>Definitely not your average suv</td>\n",
              "      <td>1628478640</td>\n",
              "      <td>{'id': '6994262492671266053', 'height': 1024, ...</td>\n",
              "      <td>{'id': '6758239118822392838', 'uniqueId': 'mar...</td>\n",
              "      <td>{'id': '6566091950947044097', 'title': 'Myself...</td>\n",
              "      <td>NaN</td>\n",
              "      <td>{'diggCount': 3600000, 'shareCount': 72800, 'c...</td>\n",
              "      <td>{'duetFromId': '0'}</td>\n",
              "      <td>False</td>\n",
              "      <td>False</td>\n",
              "      <td>NaN</td>\n",
              "      <td>False</td>\n",
              "      <td>False</td>\n",
              "      <td>False</td>\n",
              "      <td>0</td>\n",
              "      <td>False</td>\n",
              "      <td>False</td>\n",
              "      <td>False</td>\n",
              "      <td>{'followingCount': 61, 'followerCount': 43300,...</td>\n",
              "      <td>False</td>\n",
              "      <td>False</td>\n",
              "      <td>False</td>\n",
              "      <td>True</td>\n",
              "      <td>False</td>\n",
              "      <td>0</td>\n",
              "      <td>0</td>\n",
              "      <td>[{'stickerType': 4, 'stickerText': ['My uncle ...</td>\n",
              "      <td>NaN</td>\n",
              "      <td>NaN</td>\n",
              "    </tr>\n",
              "    <tr>\n",
              "      <th>3</th>\n",
              "      <td>6805652747699031302</td>\n",
              "      <td>Más extremo de lo que parece 🤣 #kl #parati</td>\n",
              "      <td>1584564511</td>\n",
              "      <td>{'id': '6805652747699031302', 'height': 960, '...</td>\n",
              "      <td>{'id': '6596805238354558982', 'uniqueId': 'kim...</td>\n",
              "      <td>{'id': '6566091950947044097', 'title': 'Myself...</td>\n",
              "      <td>[{'id': '113740', 'title': 'kl', 'desc': '', '...</td>\n",
              "      <td>{'diggCount': 3500000, 'shareCount': 45900, 'c...</td>\n",
              "      <td>{'duetFromId': '0'}</td>\n",
              "      <td>False</td>\n",
              "      <td>False</td>\n",
              "      <td>[{'awemeId': '', 'start': 32, 'end': 35, 'hash...</td>\n",
              "      <td>False</td>\n",
              "      <td>False</td>\n",
              "      <td>False</td>\n",
              "      <td>0</td>\n",
              "      <td>False</td>\n",
              "      <td>False</td>\n",
              "      <td>False</td>\n",
              "      <td>{'followingCount': 166, 'followerCount': 50300...</td>\n",
              "      <td>False</td>\n",
              "      <td>True</td>\n",
              "      <td>True</td>\n",
              "      <td>True</td>\n",
              "      <td>False</td>\n",
              "      <td>0</td>\n",
              "      <td>0</td>\n",
              "      <td>NaN</td>\n",
              "      <td>[{'text': 'The action in this video could resu...</td>\n",
              "      <td>NaN</td>\n",
              "    </tr>\n",
              "    <tr>\n",
              "      <th>4</th>\n",
              "      <td>6962210504966212870</td>\n",
              "      <td>Pt. 2 Result of the previous video How is this...</td>\n",
              "      <td>1621015956</td>\n",
              "      <td>{'id': '6962210504966212870', 'height': 1024, ...</td>\n",
              "      <td>{'id': '6610100781926711302', 'uniqueId': 'faf...</td>\n",
              "      <td>{'id': '6566091950947044097', 'title': 'Myself...</td>\n",
              "      <td>[{'id': '1518', 'title': 'edit', 'desc': 'Llev...</td>\n",
              "      <td>{'diggCount': 3400000, 'shareCount': 12900, 'c...</td>\n",
              "      <td>{'duetFromId': '0'}</td>\n",
              "      <td>False</td>\n",
              "      <td>False</td>\n",
              "      <td>[{'awemeId': '', 'start': 85, 'end': 90, 'hash...</td>\n",
              "      <td>False</td>\n",
              "      <td>False</td>\n",
              "      <td>False</td>\n",
              "      <td>0</td>\n",
              "      <td>False</td>\n",
              "      <td>False</td>\n",
              "      <td>False</td>\n",
              "      <td>{'followingCount': 241, 'followerCount': 10700...</td>\n",
              "      <td>False</td>\n",
              "      <td>True</td>\n",
              "      <td>True</td>\n",
              "      <td>True</td>\n",
              "      <td>False</td>\n",
              "      <td>0</td>\n",
              "      <td>0</td>\n",
              "      <td>NaN</td>\n",
              "      <td>NaN</td>\n",
              "      <td>NaN</td>\n",
              "    </tr>\n",
              "  </tbody>\n",
              "</table>\n",
              "</div>"
            ],
            "text/plain": [
              "                    id  ... effectStickers\n",
              "0  6807052858286935301  ...            NaN\n",
              "1  6983468874360458501  ...            NaN\n",
              "2  6994262492671266053  ...            NaN\n",
              "3  6805652747699031302  ...            NaN\n",
              "4  6962210504966212870  ...            NaN\n",
              "\n",
              "[5 rows x 30 columns]"
            ]
          },
          "metadata": {},
          "execution_count": 7
        }
      ]
    },
    {
      "cell_type": "code",
      "metadata": {
        "id": "7ImXwSh8-KGx"
      },
      "source": [],
      "execution_count": null,
      "outputs": []
    },
    {
      "cell_type": "markdown",
      "metadata": {
        "id": "OpnAnTQAolQg"
      },
      "source": [
        "# Article : Downloading Tiktok Videos Using Requests Python"
      ]
    },
    {
      "cell_type": "code",
      "metadata": {
        "colab": {
          "base_uri": "https://localhost:8080/"
        },
        "id": "TUJhcMsYqf18",
        "outputId": "3b049821-b5b7-4c37-ee17-1f26c4b1d220"
      },
      "source": [
        "list(df.columns.values)"
      ],
      "execution_count": null,
      "outputs": [
        {
          "output_type": "execute_result",
          "data": {
            "text/plain": [
              "['id',\n",
              " 'desc',\n",
              " 'createTime',\n",
              " 'video',\n",
              " 'author',\n",
              " 'music',\n",
              " 'challenges',\n",
              " 'stats',\n",
              " 'duetInfo',\n",
              " 'originalItem',\n",
              " 'officalItem',\n",
              " 'textExtra',\n",
              " 'secret',\n",
              " 'forFriend',\n",
              " 'digged',\n",
              " 'itemCommentStatus',\n",
              " 'showNotPass',\n",
              " 'vl1',\n",
              " 'itemMute',\n",
              " 'authorStats',\n",
              " 'privateItem',\n",
              " 'duetEnabled',\n",
              " 'stitchEnabled',\n",
              " 'shareEnabled',\n",
              " 'isAd',\n",
              " 'duetDisplay',\n",
              " 'stitchDisplay',\n",
              " 'stickersOnItem',\n",
              " 'warnInfo',\n",
              " 'effectStickers']"
            ]
          },
          "metadata": {},
          "execution_count": 20
        }
      ]
    },
    {
      "cell_type": "code",
      "metadata": {
        "colab": {
          "base_uri": "https://localhost:8080/"
        },
        "id": "hN_8AdOlyLao",
        "outputId": "0157c1d0-105e-4a92-e99a-e40fefdd490c"
      },
      "source": [
        "df.video[0]"
      ],
      "execution_count": null,
      "outputs": [
        {
          "output_type": "execute_result",
          "data": {
            "text/plain": [
              "{'bitrate': 1836501,\n",
              " 'codecType': 'h264',\n",
              " 'cover': 'https://p16-sign-va.tiktokcdn.com/obj/tos-maliva-p-0068/eff64b15b0d34cfabdc4441371d2aff7_1584890503?x-expires=1631214000&x-signature=%2FhvE3SQ8gh8FIj%2FjKd%2Bw6Bu1CcQ%3D',\n",
              " 'definition': '720p',\n",
              " 'downloadAddr': 'https://v16-web.tiktok.com/video/tos/useast2a/tos-useast2a-ve-0068c003/29476d65fe5143628fe108fcbd89f1c5/?a=1988&br=3586&bt=1793&cd=0%7C0%7C1&ch=0&cr=0&cs=0&cv=1&dr=0&ds=3&er=&expire=1631214129&ft=9wMeReYH4kag3&l=202109091301420101901921432D08B7C3&lr=tiktok_m&mime_type=video_mp4&net=0&pl=0&policy=3&qs=0&rc=ampqdmhsOmlyczMzNzczM0ApN2Q0aGY8OGU5N2czO2VmNmdqZmRzNGEtMW9fLS1eMTZzc2NhMS02LzExLzFiNTYxNWE6Yw%3D%3D&signature=0695503ac923330acc2aaae23c083271&tk=0&vl=&vr=',\n",
              " 'duration': 26,\n",
              " 'dynamicCover': 'https://p16-sign-va.tiktokcdn.com/obj/tos-maliva-p-0068/8f962f09562144ed8b5f328bc494a5ea_1584890503?x-expires=1631214000&x-signature=rFcQMbTb0NheVtl46FBLx5MA018%3D',\n",
              " 'encodeUserTag': '',\n",
              " 'encodedType': 'normal',\n",
              " 'format': 'mp4',\n",
              " 'height': 1024,\n",
              " 'id': '6807052858286935301',\n",
              " 'originCover': 'https://p16-sign-va.tiktokcdn.com/obj/tos-maliva-p-0068/dca841b1336b474894fd4432270dd5b0_1584890503?x-expires=1631214000&x-signature=TlY%2BvZSt8XZhAzYaHK0lmspYhBM%3D',\n",
              " 'playAddr': 'https://v16-web.tiktok.com/video/tos/useast2a/tos-useast2a-ve-0068c003/29476d65fe5143628fe108fcbd89f1c5/?a=1988&br=3586&bt=1793&cd=0%7C0%7C1&ch=0&cr=0&cs=0&cv=1&dr=0&ds=3&er=&expire=1631214129&ft=9wMeReYH4kag3&l=202109091301420101901921432D08B7C3&lr=tiktok_m&mime_type=video_mp4&net=0&pl=0&policy=3&qs=0&rc=ampqdmhsOmlyczMzNzczM0ApN2Q0aGY8OGU5N2czO2VmNmdqZmRzNGEtMW9fLS1eMTZzc2NhMS02LzExLzFiNTYxNWE6Yw%3D%3D&signature=0695503ac923330acc2aaae23c083271&tk=0&vl=&vr=',\n",
              " 'ratio': '720p',\n",
              " 'reflowCover': 'https://p16-sign-va.tiktokcdn.com/obj/tos-maliva-p-0068/eff64b15b0d34cfabdc4441371d2aff7_1584890503?x-expires=1631214000&x-signature=%2FhvE3SQ8gh8FIj%2FjKd%2Bw6Bu1CcQ%3D',\n",
              " 'shareCover': ['',\n",
              "  'https://p16-sign-va.tiktokcdn.com/tos-maliva-p-0068/dca841b1336b474894fd4432270dd5b0_1584890503~tplv-tiktok-play.jpeg?x-expires=1631214000&x-signature=r1UYyjh%2FfGoY1SrywD4YCPAy7t0%3D',\n",
              "  'https://p16-sign-va.tiktokcdn.com/tos-maliva-p-0068/dca841b1336b474894fd4432270dd5b0_1584890503~tplv-tiktokx-share-play.jpeg?x-expires=1631214000&x-signature=vREV8jZpkWnfwVP1mR7KwvC1G2U%3D'],\n",
              " 'videoQuality': 'normal',\n",
              " 'width': 576}"
            ]
          },
          "metadata": {},
          "execution_count": 43
        }
      ]
    },
    {
      "cell_type": "code",
      "metadata": {
        "id": "RqG_kugiqfuh"
      },
      "source": [
        "link = df.video[0]['downloadAddr']"
      ],
      "execution_count": null,
      "outputs": []
    },
    {
      "cell_type": "code",
      "metadata": {
        "id": "ilIGvThNp3Ws"
      },
      "source": [
        "r = requests.get(\n",
        "    link,\n",
        "    headers={\n",
        "        \"Accept\": \"*/*\",\n",
        "        \"Accept-Encoding\": \"identity;q=1, *;q=0\",\n",
        "        \"Accept-Language\": \"en-US;en;q=0.9\",\n",
        "        \"Cache-Control\": \"no-cache\",\n",
        "        \"Connection\": \"keep-alive\",\n",
        "        \"Host\": link.split(\"/\")[2],\n",
        "        \"Pragma\": \"no-cache\",\n",
        "        \"Range\": \"bytes=0-\",\n",
        "        \"Referer\": \"https://www.tiktok.com/\",\n",
        "        'User-Agent':'Mozilla/5.0 (Windows NT 10.0; Win64; x64) AppleWebKit/537.36 (KHTML, like Gecko) Chrome/93.0.4577.63 Safari/537.36',\n",
        "    }\n",
        ")\n",
        "\n"
      ],
      "execution_count": null,
      "outputs": []
    },
    {
      "cell_type": "code",
      "metadata": {
        "id": "Q-hKX2LgxfES"
      },
      "source": [],
      "execution_count": null,
      "outputs": []
    },
    {
      "cell_type": "markdown",
      "metadata": {
        "id": "1yNQiwTVxfZg"
      },
      "source": [
        "# EXTRA : Downloading all the videos in df"
      ]
    },
    {
      "cell_type": "code",
      "metadata": {
        "colab": {
          "base_uri": "https://localhost:8080/"
        },
        "id": "OQtXsFtNxkoJ",
        "outputId": "496ac9a9-629e-4cc5-99d8-eeabbdeafcdb"
      },
      "source": [
        "len(df.video)"
      ],
      "execution_count": null,
      "outputs": [
        {
          "output_type": "execute_result",
          "data": {
            "text/plain": [
              "27"
            ]
          },
          "metadata": {},
          "execution_count": 42
        }
      ]
    },
    {
      "cell_type": "code",
      "metadata": {
        "id": "5snGFacJxmd9"
      },
      "source": [
        "# create a function to download the videos :\n",
        "import os\n",
        "def getVid(data):\n",
        "  link = data['downloadAddr']\n",
        "  ID   = data['id']\n",
        "  location  = os.path.join(os.getcwd(),f'{ID}.mp4')\n",
        "  headers={\n",
        "    \"Accept\": \"*/*\",\n",
        "    \"Accept-Encoding\": \"identity;q=1, *;q=0\",\n",
        "    \"Accept-Language\": \"en-US;en;q=0.9\",\n",
        "    \"Cache-Control\": \"no-cache\",\n",
        "    \"Connection\": \"keep-alive\",\n",
        "    \"Host\": link.split(\"/\")[2],\n",
        "    \"Pragma\": \"no-cache\",\n",
        "    \"Range\": \"bytes=0-\",\n",
        "    \"Referer\": \"https://www.tiktok.com/\",\n",
        "    'User-Agent':'Mozilla/5.0 (Windows NT 10.0; Win64; x64) AppleWebKit/537.36 (KHTML, like Gecko) Chrome/93.0.4577.63 Safari/537.36',\n",
        "    }\n",
        "\n",
        "    # Perform GET\n",
        "  r = requests.get(link,headers = headers)\n",
        "  if r.status_code == 206 :\n",
        "    print('[*] Successful')\n",
        "    print(f'[*] Writing to File : {ID}.mp4')\n",
        "    with open(location,'wb') as Export :\n",
        "      Export.write(r.content)\n",
        "    print('##########################################')\n",
        "  else:\n",
        "    print(f'Requests Failed {ID}')\n",
        "  return data"
      ],
      "execution_count": null,
      "outputs": []
    },
    {
      "cell_type": "code",
      "metadata": {
        "colab": {
          "base_uri": "https://localhost:8080/"
        },
        "id": "lOXmkH4gzHhf",
        "outputId": "eeea7a0a-5cf0-4b06-b855-f9d96301c80f"
      },
      "source": [
        "df.video.apply(getVid)"
      ],
      "execution_count": null,
      "outputs": [
        {
          "output_type": "stream",
          "name": "stdout",
          "text": [
            "[*] Successful\n",
            "[*] Writing to File : 6807052858286935301.mp4\n",
            "##########################################\n",
            "[*] Successful\n",
            "[*] Writing to File : 6983468874360458501.mp4\n",
            "##########################################\n",
            "[*] Successful\n",
            "[*] Writing to File : 6994262492671266053.mp4\n",
            "##########################################\n",
            "[*] Successful\n",
            "[*] Writing to File : 6805652747699031302.mp4\n",
            "##########################################\n",
            "[*] Successful\n",
            "[*] Writing to File : 6962210504966212870.mp4\n",
            "##########################################\n",
            "[*] Successful\n",
            "[*] Writing to File : 6809450900935970053.mp4\n",
            "##########################################\n",
            "[*] Successful\n",
            "[*] Writing to File : 6996374672161950981.mp4\n",
            "##########################################\n",
            "[*] Successful\n",
            "[*] Writing to File : 6808936714149596421.mp4\n",
            "##########################################\n",
            "[*] Successful\n",
            "[*] Writing to File : 6828051635718163717.mp4\n",
            "##########################################\n",
            "[*] Successful\n",
            "[*] Writing to File : 6961191711326473478.mp4\n",
            "##########################################\n",
            "[*] Successful\n",
            "[*] Writing to File : 6948850841164074245.mp4\n",
            "##########################################\n",
            "[*] Successful\n",
            "[*] Writing to File : 6833371208998718725.mp4\n",
            "##########################################\n",
            "[*] Successful\n",
            "[*] Writing to File : 6842285428964478214.mp4\n",
            "##########################################\n",
            "[*] Successful\n",
            "[*] Writing to File : 6983222292251790598.mp4\n",
            "##########################################\n",
            "[*] Successful\n",
            "[*] Writing to File : 6684269955858304262.mp4\n",
            "##########################################\n",
            "[*] Successful\n",
            "[*] Writing to File : 6683964824369499397.mp4\n",
            "##########################################\n",
            "[*] Successful\n",
            "[*] Writing to File : 6804658647302442245.mp4\n",
            "##########################################\n",
            "[*] Successful\n",
            "[*] Writing to File : 6809426851799371014.mp4\n",
            "##########################################\n",
            "[*] Successful\n",
            "[*] Writing to File : 6981851214828866818.mp4\n",
            "##########################################\n",
            "[*] Successful\n",
            "[*] Writing to File : 6808571094027521285.mp4\n",
            "##########################################\n",
            "[*] Successful\n",
            "[*] Writing to File : 6811529228190780678.mp4\n",
            "##########################################\n",
            "[*] Successful\n",
            "[*] Writing to File : 6814262379325459717.mp4\n",
            "##########################################\n",
            "[*] Successful\n",
            "[*] Writing to File : 6820468388498902278.mp4\n",
            "##########################################\n",
            "[*] Successful\n",
            "[*] Writing to File : 6862069078664809734.mp4\n",
            "##########################################\n",
            "[*] Successful\n",
            "[*] Writing to File : 6683198514823957765.mp4\n",
            "##########################################\n",
            "[*] Successful\n",
            "[*] Writing to File : 6907591833535253766.mp4\n",
            "##########################################\n",
            "[*] Successful\n",
            "[*] Writing to File : 6813862159873871110.mp4\n",
            "##########################################\n"
          ]
        },
        {
          "output_type": "execute_result",
          "data": {
            "text/plain": [
              "0     {'id': '6807052858286935301', 'height': 1024, ...\n",
              "1     {'id': '6983468874360458501', 'height': 1024, ...\n",
              "2     {'id': '6994262492671266053', 'height': 1024, ...\n",
              "3     {'id': '6805652747699031302', 'height': 960, '...\n",
              "4     {'id': '6962210504966212870', 'height': 1024, ...\n",
              "5     {'id': '6809450900935970053', 'height': 1024, ...\n",
              "6     {'id': '6996374672161950981', 'height': 1024, ...\n",
              "7     {'id': '6808936714149596421', 'height': 1024, ...\n",
              "8     {'id': '6828051635718163717', 'height': 1024, ...\n",
              "9     {'id': '6961191711326473478', 'height': 1024, ...\n",
              "10    {'id': '6948850841164074245', 'height': 1024, ...\n",
              "11    {'id': '6833371208998718725', 'height': 960, '...\n",
              "12    {'id': '6842285428964478214', 'height': 1024, ...\n",
              "13    {'id': '6983222292251790598', 'height': 1024, ...\n",
              "14    {'id': '6684269955858304262', 'height': 1280, ...\n",
              "15    {'id': '6683964824369499397', 'height': 1280, ...\n",
              "16    {'id': '6804658647302442245', 'height': 1280, ...\n",
              "17    {'id': '6809426851799371014', 'height': 960, '...\n",
              "18    {'id': '6981851214828866818', 'height': 1024, ...\n",
              "19    {'id': '6808571094027521285', 'height': 960, '...\n",
              "20    {'id': '6811529228190780678', 'height': 1024, ...\n",
              "21    {'id': '6814262379325459717', 'height': 1024, ...\n",
              "22    {'id': '6820468388498902278', 'height': 960, '...\n",
              "23    {'id': '6862069078664809734', 'height': 960, '...\n",
              "24    {'id': '6683198514823957765', 'height': 1280, ...\n",
              "25    {'id': '6907591833535253766', 'height': 960, '...\n",
              "26    {'id': '6813862159873871110', 'height': 960, '...\n",
              "Name: video, dtype: object"
            ]
          },
          "metadata": {},
          "execution_count": 52
        }
      ]
    },
    {
      "cell_type": "code",
      "metadata": {
        "id": "ynyWagFDztiP"
      },
      "source": [],
      "execution_count": null,
      "outputs": []
    }
  ]
}